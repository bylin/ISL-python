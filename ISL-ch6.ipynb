{
 "cells": [
  {
   "cell_type": "markdown",
   "metadata": {
    "toc": true
   },
   "source": [
    "<h1>Table of Contents<span class=\"tocSkip\"></span></h1>\n",
    "<div class=\"toc\"><ul class=\"toc-item\"><li><span><a href=\"#Problem-8\" data-toc-modified-id=\"Problem-8-1\">Problem 8</a></span><ul class=\"toc-item\"><li><span><a href=\"#8c\" data-toc-modified-id=\"8c-1.1\">8c</a></span></li></ul></li></ul></div>"
   ]
  },
  {
   "cell_type": "code",
   "execution_count": 1,
   "metadata": {
    "ExecuteTime": {
     "end_time": "2019-02-20T16:33:16.215100Z",
     "start_time": "2019-02-20T16:33:14.644502Z"
    }
   },
   "outputs": [],
   "source": [
    "import pandas as pd\n",
    "import numpy as np\n",
    "import matplotlib.pyplot as plt\n",
    "import seaborn as sns\n",
    "np.set_printoptions(precision=2)\n",
    "%matplotlib notebook"
   ]
  },
  {
   "cell_type": "code",
   "execution_count": 2,
   "metadata": {
    "ExecuteTime": {
     "end_time": "2019-02-20T16:33:16.540620Z",
     "start_time": "2019-02-20T16:33:16.237281Z"
    }
   },
   "outputs": [],
   "source": [
    "from sklearn.model_selection import train_test_split\n",
    "from sklearn.linear_model import LinearRegression, LogisticRegression, Lasso, Ridge\n",
    "from sklearn.neighbors import KNeighborsClassifier\n",
    "from sklearn.model_selection import GridSearchCV\n",
    "from sklearn.svm import SVC\n",
    "from sklearn.ensemble import RandomForestClassifier\n",
    "from sklearn.discriminant_analysis import LinearDiscriminantAnalysis, QuadraticDiscriminantAnalysis\n",
    "from sklearn.dummy import DummyClassifier, DummyRegressor\n",
    "from sklearn.metrics import confusion_matrix, f1_score, roc_curve, auc, accuracy_score, precision_score, recall_score, classification_report, precision_recall_curve, mean_squared_error, r2_score"
   ]
  },
  {
   "cell_type": "markdown",
   "metadata": {},
   "source": [
    "## Problem 8"
   ]
  },
  {
   "cell_type": "code",
   "execution_count": 65,
   "metadata": {
    "ExecuteTime": {
     "end_time": "2019-02-20T16:58:22.902466Z",
     "start_time": "2019-02-20T16:58:22.890917Z"
    }
   },
   "outputs": [],
   "source": [
    "X = np.random.normal(size=100).reshape(-1, 1)\n",
    "e = np.random.normal(size=100)\n",
    "y = 1 + 2 * X + 3 * X ** 2 + 4 * X ** 3 + e"
   ]
  },
  {
   "cell_type": "markdown",
   "metadata": {},
   "source": [
    "### 8c"
   ]
  },
  {
   "cell_type": "code",
   "execution_count": 22,
   "metadata": {
    "ExecuteTime": {
     "end_time": "2019-02-20T16:50:27.728570Z",
     "start_time": "2019-02-20T16:50:27.724475Z"
    }
   },
   "outputs": [],
   "source": [
    "# Best subset\n",
    "from itertools import chain, combinations\n",
    "X_design = np.concatenate([X, X**2, X**3, X**4], axis=1)\n",
    "subsets = list(chain.from_iterable(combinations(range(11), k) for k in range(11)))\n",
    "cps\n",
    "for subset in subsets:\n",
    "    linreg = LinearRegression().fit(X_design[:, subset], y)\n",
    "    cp = \n",
    "    bic = \n",
    "    adj_r2 = \n",
    "# for n_predictors in range(1, 11):\n",
    "#     for predictors in product(range(1, n_predictors)):\n",
    "        "
   ]
  },
  {
   "cell_type": "code",
   "execution_count": 92,
   "metadata": {
    "ExecuteTime": {
     "end_time": "2019-02-20T17:04:13.754022Z",
     "start_time": "2019-02-20T17:04:13.749748Z"
    }
   },
   "outputs": [],
   "source": [
    "X_design = np.concatenate([X, X**2, X**3, X**4], axis=1)"
   ]
  },
  {
   "cell_type": "code",
   "execution_count": 102,
   "metadata": {
    "ExecuteTime": {
     "end_time": "2019-02-20T17:07:46.701567Z",
     "start_time": "2019-02-20T17:07:46.698339Z"
    }
   },
   "outputs": [],
   "source": [
    "subsets = list(chain.from_iterable(combinations(range(11), k + 1) for k in range(11)))"
   ]
  },
  {
   "cell_type": "code",
   "execution_count": 107,
   "metadata": {
    "ExecuteTime": {
     "end_time": "2019-02-20T17:08:12.435044Z",
     "start_time": "2019-02-20T17:08:12.426529Z"
    }
   },
   "outputs": [
    {
     "data": {
      "text/plain": [
       "[(0, 1, 2, 3, 6, 7, 8, 9, 10),\n",
       " (0, 1, 2, 4, 5, 6, 7, 8, 9),\n",
       " (0, 1, 2, 4, 5, 6, 7, 8, 10),\n",
       " (0, 1, 2, 4, 5, 6, 7, 9, 10),\n",
       " (0, 1, 2, 4, 5, 6, 8, 9, 10),\n",
       " (0, 1, 2, 4, 5, 7, 8, 9, 10),\n",
       " (0, 1, 2, 4, 6, 7, 8, 9, 10),\n",
       " (0, 1, 2, 5, 6, 7, 8, 9, 10),\n",
       " (0, 1, 3, 4, 5, 6, 7, 8, 9),\n",
       " (0, 1, 3, 4, 5, 6, 7, 8, 10),\n",
       " (0, 1, 3, 4, 5, 6, 7, 9, 10),\n",
       " (0, 1, 3, 4, 5, 6, 8, 9, 10),\n",
       " (0, 1, 3, 4, 5, 7, 8, 9, 10),\n",
       " (0, 1, 3, 4, 6, 7, 8, 9, 10),\n",
       " (0, 1, 3, 5, 6, 7, 8, 9, 10),\n",
       " (0, 1, 4, 5, 6, 7, 8, 9, 10),\n",
       " (0, 2, 3, 4, 5, 6, 7, 8, 9),\n",
       " (0, 2, 3, 4, 5, 6, 7, 8, 10),\n",
       " (0, 2, 3, 4, 5, 6, 7, 9, 10),\n",
       " (0, 2, 3, 4, 5, 6, 8, 9, 10),\n",
       " (0, 2, 3, 4, 5, 7, 8, 9, 10),\n",
       " (0, 2, 3, 4, 6, 7, 8, 9, 10),\n",
       " (0, 2, 3, 5, 6, 7, 8, 9, 10),\n",
       " (0, 2, 4, 5, 6, 7, 8, 9, 10),\n",
       " (0, 3, 4, 5, 6, 7, 8, 9, 10),\n",
       " (1, 2, 3, 4, 5, 6, 7, 8, 9),\n",
       " (1, 2, 3, 4, 5, 6, 7, 8, 10),\n",
       " (1, 2, 3, 4, 5, 6, 7, 9, 10),\n",
       " (1, 2, 3, 4, 5, 6, 8, 9, 10),\n",
       " (1, 2, 3, 4, 5, 7, 8, 9, 10),\n",
       " (1, 2, 3, 4, 6, 7, 8, 9, 10),\n",
       " (1, 2, 3, 5, 6, 7, 8, 9, 10),\n",
       " (1, 2, 4, 5, 6, 7, 8, 9, 10),\n",
       " (1, 3, 4, 5, 6, 7, 8, 9, 10),\n",
       " (2, 3, 4, 5, 6, 7, 8, 9, 10),\n",
       " (0, 1, 2, 3, 4, 5, 6, 7, 8, 9),\n",
       " (0, 1, 2, 3, 4, 5, 6, 7, 8, 10),\n",
       " (0, 1, 2, 3, 4, 5, 6, 7, 9, 10),\n",
       " (0, 1, 2, 3, 4, 5, 6, 8, 9, 10),\n",
       " (0, 1, 2, 3, 4, 5, 7, 8, 9, 10),\n",
       " (0, 1, 2, 3, 4, 6, 7, 8, 9, 10),\n",
       " (0, 1, 2, 3, 5, 6, 7, 8, 9, 10),\n",
       " (0, 1, 2, 4, 5, 6, 7, 8, 9, 10),\n",
       " (0, 1, 3, 4, 5, 6, 7, 8, 9, 10),\n",
       " (0, 2, 3, 4, 5, 6, 7, 8, 9, 10),\n",
       " (1, 2, 3, 4, 5, 6, 7, 8, 9, 10),\n",
       " (0, 1, 2, 3, 4, 5, 6, 7, 8, 9, 10)]"
      ]
     },
     "execution_count": 107,
     "metadata": {},
     "output_type": "execute_result"
    }
   ],
   "source": [
    "subsets[2000:]"
   ]
  },
  {
   "cell_type": "code",
   "execution_count": 19,
   "metadata": {
    "ExecuteTime": {
     "end_time": "2019-02-20T16:45:40.604001Z",
     "start_time": "2019-02-20T16:45:40.593497Z"
    }
   },
   "outputs": [
    {
     "ename": "NameError",
     "evalue": "name 'n_predictors' is not defined",
     "output_type": "error",
     "traceback": [
      "\u001b[0;31m---------------------------------------------------------------------------\u001b[0m",
      "\u001b[0;31mNameError\u001b[0m                                 Traceback (most recent call last)",
      "\u001b[0;32m<ipython-input-19-e3c1d87d6f2f>\u001b[0m in \u001b[0;36m<module>\u001b[0;34m\u001b[0m\n\u001b[0;32m----> 1\u001b[0;31m \u001b[0mlist\u001b[0m\u001b[0;34m(\u001b[0m\u001b[0mproduct\u001b[0m\u001b[0;34m(\u001b[0m\u001b[0mrange\u001b[0m\u001b[0;34m(\u001b[0m\u001b[0;36m1\u001b[0m\u001b[0;34m,\u001b[0m \u001b[0mn_predictors\u001b[0m\u001b[0;34m)\u001b[0m\u001b[0;34m)\u001b[0m\u001b[0;34m)\u001b[0m\u001b[0;34m\u001b[0m\u001b[0;34m\u001b[0m\u001b[0m\n\u001b[0m",
      "\u001b[0;31mNameError\u001b[0m: name 'n_predictors' is not defined"
     ]
    }
   ],
   "source": [
    "list(product(range(1, n_predictors)))"
   ]
  },
  {
   "cell_type": "code",
   "execution_count": 17,
   "metadata": {
    "ExecuteTime": {
     "end_time": "2019-02-20T16:45:05.875892Z",
     "start_time": "2019-02-20T16:45:05.871009Z"
    }
   },
   "outputs": [
    {
     "data": {
      "text/plain": [
       "4"
      ]
     },
     "execution_count": 17,
     "metadata": {},
     "output_type": "execute_result"
    }
   ],
   "source": [
    "range(1,10)[3]"
   ]
  },
  {
   "cell_type": "code",
   "execution_count": 14,
   "metadata": {
    "ExecuteTime": {
     "end_time": "2019-02-20T16:44:24.662782Z",
     "start_time": "2019-02-20T16:44:24.656809Z"
    }
   },
   "outputs": [
    {
     "data": {
      "text/plain": [
       "[(2, 2),\n",
       " (2, 3),\n",
       " (2, 4),\n",
       " (2, 5),\n",
       " (2, 6),\n",
       " (2, 7),\n",
       " (3, 2),\n",
       " (3, 3),\n",
       " (3, 4),\n",
       " (3, 5),\n",
       " (3, 6),\n",
       " (3, 7),\n",
       " (4, 2),\n",
       " (4, 3),\n",
       " (4, 4),\n",
       " (4, 5),\n",
       " (4, 6),\n",
       " (4, 7),\n",
       " (5, 2),\n",
       " (5, 3),\n",
       " (5, 4),\n",
       " (5, 5),\n",
       " (5, 6),\n",
       " (5, 7),\n",
       " (6, 2),\n",
       " (6, 3),\n",
       " (6, 4),\n",
       " (6, 5),\n",
       " (6, 6),\n",
       " (6, 7),\n",
       " (7, 2),\n",
       " (7, 3),\n",
       " (7, 4),\n",
       " (7, 5),\n",
       " (7, 6),\n",
       " (7, 7)]"
      ]
     },
     "execution_count": 14,
     "metadata": {},
     "output_type": "execute_result"
    }
   ],
   "source": [
    "list(product([2, 3, 4, 5, 6, 7],[2, 3, 4, 5, 6, 7]))"
   ]
  },
  {
   "cell_type": "code",
   "execution_count": null,
   "metadata": {},
   "outputs": [],
   "source": []
  }
 ],
 "metadata": {
  "kernelspec": {
   "display_name": "Python 3",
   "language": "python",
   "name": "python3"
  },
  "language_info": {
   "codemirror_mode": {
    "name": "ipython",
    "version": 3
   },
   "file_extension": ".py",
   "mimetype": "text/x-python",
   "name": "python",
   "nbconvert_exporter": "python",
   "pygments_lexer": "ipython3",
   "version": "3.6.8"
  },
  "toc": {
   "base_numbering": 1,
   "nav_menu": {},
   "number_sections": false,
   "sideBar": true,
   "skip_h1_title": false,
   "title_cell": "Table of Contents",
   "title_sidebar": "Contents",
   "toc_cell": true,
   "toc_position": {},
   "toc_section_display": true,
   "toc_window_display": false
  },
  "varInspector": {
   "cols": {
    "lenName": 16,
    "lenType": 16,
    "lenVar": 40
   },
   "kernels_config": {
    "python": {
     "delete_cmd_postfix": "",
     "delete_cmd_prefix": "del ",
     "library": "var_list.py",
     "varRefreshCmd": "print(var_dic_list())"
    },
    "r": {
     "delete_cmd_postfix": ") ",
     "delete_cmd_prefix": "rm(",
     "library": "var_list.r",
     "varRefreshCmd": "cat(var_dic_list()) "
    }
   },
   "types_to_exclude": [
    "module",
    "function",
    "builtin_function_or_method",
    "instance",
    "_Feature"
   ],
   "window_display": false
  }
 },
 "nbformat": 4,
 "nbformat_minor": 2
}

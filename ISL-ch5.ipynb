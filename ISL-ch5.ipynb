{
 "cells": [
  {
   "cell_type": "markdown",
   "metadata": {
    "toc": true
   },
   "source": [
    "<h1>Table of Contents<span class=\"tocSkip\"></span></h1>\n",
    "<div class=\"toc\"><ul class=\"toc-item\"><li><span><a href=\"#Problem-5\" data-toc-modified-id=\"Problem-5-1\">Problem 5</a></span><ul class=\"toc-item\"><li><span><a href=\"#5a-c\" data-toc-modified-id=\"5a-c-1.1\">5a-c</a></span></li><li><span><a href=\"#5d\" data-toc-modified-id=\"5d-1.2\">5d</a></span></li></ul></li><li><span><a href=\"#Problem-6\" data-toc-modified-id=\"Problem-6-2\">Problem 6</a></span><ul class=\"toc-item\"><li><span><a href=\"#6a\" data-toc-modified-id=\"6a-2.1\">6a</a></span></li></ul></li><li><span><a href=\"#Problem-7\" data-toc-modified-id=\"Problem-7-3\">Problem 7</a></span><ul class=\"toc-item\"><li><span><a href=\"#7a-c\" data-toc-modified-id=\"7a-c-3.1\">7a-c</a></span></li><li><span><a href=\"#7d-e\" data-toc-modified-id=\"7d-e-3.2\">7d-e</a></span></li></ul></li><li><span><a href=\"#Problem-8\" data-toc-modified-id=\"Problem-8-4\">Problem 8</a></span><ul class=\"toc-item\"><li><span><a href=\"#8a\" data-toc-modified-id=\"8a-4.1\">8a</a></span></li><li><span><a href=\"#8b\" data-toc-modified-id=\"8b-4.2\">8b</a></span></li><li><span><a href=\"#8c\" data-toc-modified-id=\"8c-4.3\">8c</a></span></li></ul></li></ul></div>"
   ]
  },
  {
   "cell_type": "code",
   "execution_count": 2,
   "metadata": {
    "ExecuteTime": {
     "end_time": "2019-02-18T23:03:18.947289Z",
     "start_time": "2019-02-18T23:03:17.763312Z"
    }
   },
   "outputs": [],
   "source": [
    "import pandas as pd\n",
    "import numpy as np\n",
    "import matplotlib.pyplot as plt\n",
    "import seaborn as sns\n",
    "np.set_printoptions(precision=2)\n",
    "%matplotlib notebook"
   ]
  },
  {
   "cell_type": "code",
   "execution_count": 3,
   "metadata": {
    "ExecuteTime": {
     "end_time": "2019-02-18T23:03:19.291950Z",
     "start_time": "2019-02-18T23:03:18.964121Z"
    }
   },
   "outputs": [],
   "source": [
    "from sklearn.model_selection import train_test_split\n",
    "from sklearn.linear_model import LinearRegression, LogisticRegression, Lasso, Ridge\n",
    "from sklearn.neighbors import KNeighborsClassifier\n",
    "from sklearn.model_selection import GridSearchCV\n",
    "from sklearn.svm import SVC\n",
    "from sklearn.ensemble import RandomForestClassifier\n",
    "from sklearn.discriminant_analysis import LinearDiscriminantAnalysis, QuadraticDiscriminantAnalysis\n",
    "from sklearn.dummy import DummyClassifier, DummyRegressor\n",
    "from sklearn.metrics import confusion_matrix, f1_score, roc_curve, auc, accuracy_score, precision_score, recall_score, classification_report, precision_recall_curve, mean_squared_error, r2_score"
   ]
  },
  {
   "cell_type": "markdown",
   "metadata": {},
   "source": [
    "## Problem 5\n",
    "\n",
    "### 5a-c"
   ]
  },
  {
   "cell_type": "code",
   "execution_count": 11,
   "metadata": {
    "ExecuteTime": {
     "end_time": "2019-02-18T23:11:27.524075Z",
     "start_time": "2019-02-18T23:11:27.502028Z"
    }
   },
   "outputs": [
    {
     "data": {
      "text/html": [
       "<div>\n",
       "<style scoped>\n",
       "    .dataframe tbody tr th:only-of-type {\n",
       "        vertical-align: middle;\n",
       "    }\n",
       "\n",
       "    .dataframe tbody tr th {\n",
       "        vertical-align: top;\n",
       "    }\n",
       "\n",
       "    .dataframe thead th {\n",
       "        text-align: right;\n",
       "    }\n",
       "</style>\n",
       "<table border=\"1\" class=\"dataframe\">\n",
       "  <thead>\n",
       "    <tr style=\"text-align: right;\">\n",
       "      <th></th>\n",
       "      <th>default</th>\n",
       "      <th>student</th>\n",
       "      <th>balance</th>\n",
       "      <th>income</th>\n",
       "    </tr>\n",
       "  </thead>\n",
       "  <tbody>\n",
       "    <tr>\n",
       "      <th>1</th>\n",
       "      <td>No</td>\n",
       "      <td>No</td>\n",
       "      <td>729.526495</td>\n",
       "      <td>44361.62507</td>\n",
       "    </tr>\n",
       "    <tr>\n",
       "      <th>2</th>\n",
       "      <td>No</td>\n",
       "      <td>Yes</td>\n",
       "      <td>817.180407</td>\n",
       "      <td>12106.13470</td>\n",
       "    </tr>\n",
       "    <tr>\n",
       "      <th>3</th>\n",
       "      <td>No</td>\n",
       "      <td>No</td>\n",
       "      <td>1073.549164</td>\n",
       "      <td>31767.13895</td>\n",
       "    </tr>\n",
       "    <tr>\n",
       "      <th>4</th>\n",
       "      <td>No</td>\n",
       "      <td>No</td>\n",
       "      <td>529.250605</td>\n",
       "      <td>35704.49394</td>\n",
       "    </tr>\n",
       "    <tr>\n",
       "      <th>5</th>\n",
       "      <td>No</td>\n",
       "      <td>No</td>\n",
       "      <td>785.655883</td>\n",
       "      <td>38463.49588</td>\n",
       "    </tr>\n",
       "  </tbody>\n",
       "</table>\n",
       "</div>"
      ],
      "text/plain": [
       "  default student      balance       income\n",
       "1      No      No   729.526495  44361.62507\n",
       "2      No     Yes   817.180407  12106.13470\n",
       "3      No      No  1073.549164  31767.13895\n",
       "4      No      No   529.250605  35704.49394\n",
       "5      No      No   785.655883  38463.49588"
      ]
     },
     "execution_count": 11,
     "metadata": {},
     "output_type": "execute_result"
    }
   ],
   "source": [
    "default = pd.read_csv('Default.csv', index_col=0)\n",
    "default.head()"
   ]
  },
  {
   "cell_type": "code",
   "execution_count": 63,
   "metadata": {
    "ExecuteTime": {
     "end_time": "2019-02-18T23:25:27.319269Z",
     "start_time": "2019-02-18T23:25:27.181613Z"
    }
   },
   "outputs": [
    {
     "name": "stdout",
     "output_type": "stream",
     "text": [
      "Error rate: 0.029000000000000026\n",
      "Error rate: 0.032200000000000006\n",
      "Error rate: 0.031200000000000006\n",
      "Error rate: 0.03400000000000003\n",
      "Error rate: 0.023800000000000043\n"
     ]
    }
   ],
   "source": [
    "X = default.loc[:, ['income', 'balance']].values\n",
    "y = pd.get_dummies(default['default']).iloc[:, 1].values\n",
    "for i in range(5):\n",
    "    X_train, X_test, y_train, y_test = train_test_split(X, y, test_size = 0.5, train_size=0.5, random_state=i)\n",
    "    logreg = LogisticRegression(solver='lbfgs').fit(X_train, y_train)\n",
    "    y_pred = logreg.predict(X_test)\n",
    "    print('Error rate: {}'.format(1 - accuracy_score(y_test, y_pred)))"
   ]
  },
  {
   "cell_type": "markdown",
   "metadata": {},
   "source": [
    "### 5d"
   ]
  },
  {
   "cell_type": "code",
   "execution_count": 62,
   "metadata": {
    "ExecuteTime": {
     "end_time": "2019-02-18T23:25:25.385380Z",
     "start_time": "2019-02-18T23:25:25.260916Z"
    }
   },
   "outputs": [
    {
     "name": "stdout",
     "output_type": "stream",
     "text": [
      "Error rate: 0.035599999999999965\n",
      "Error rate: 0.032200000000000006\n",
      "Error rate: 0.03200000000000003\n",
      "Error rate: 0.03400000000000003\n",
      "Error rate: 0.024599999999999955\n"
     ]
    }
   ],
   "source": [
    "X = default.loc[:, ['income', 'balance']].values\n",
    "X = np.append(X, pd.get_dummies(default['student']).iloc[:, 1].values.reshape(-1, 1), axis=1)\n",
    "for i in range(5):\n",
    "    X_train, X_test, y_train, y_test = train_test_split(X, y, test_size = 0.5, train_size=0.5, random_state=i)\n",
    "    logreg = LogisticRegression(solver='lbfgs').fit(X_train, y_train)\n",
    "    y_pred = logreg.predict(X_test)\n",
    "    print('Error rate: {}'.format(1 - accuracy_score(y_test, y_pred)))"
   ]
  },
  {
   "cell_type": "markdown",
   "metadata": {},
   "source": [
    "## Problem 6\n",
    "\n",
    "### 6a"
   ]
  },
  {
   "cell_type": "code",
   "execution_count": 81,
   "metadata": {
    "ExecuteTime": {
     "end_time": "2019-02-19T04:05:44.727936Z",
     "start_time": "2019-02-19T04:05:44.671330Z"
    }
   },
   "outputs": [],
   "source": [
    "X = default.loc[:, ['income', 'balance']].values\n",
    "logreg = LogisticRegression(solver='lbfgs').fit(X, y)"
   ]
  },
  {
   "cell_type": "code",
   "execution_count": 93,
   "metadata": {
    "ExecuteTime": {
     "end_time": "2019-02-19T04:21:02.283807Z",
     "start_time": "2019-02-19T04:21:01.735957Z"
    }
   },
   "outputs": [
    {
     "data": {
      "text/html": [
       "<div>\n",
       "<style scoped>\n",
       "    .dataframe tbody tr th:only-of-type {\n",
       "        vertical-align: middle;\n",
       "    }\n",
       "\n",
       "    .dataframe tbody tr th {\n",
       "        vertical-align: top;\n",
       "    }\n",
       "\n",
       "    .dataframe thead th {\n",
       "        text-align: right;\n",
       "    }\n",
       "</style>\n",
       "<table border=\"1\" class=\"dataframe\">\n",
       "  <thead>\n",
       "    <tr style=\"text-align: right;\">\n",
       "      <th></th>\n",
       "      <th>coef</th>\n",
       "      <th>se</th>\n",
       "      <th>z</th>\n",
       "      <th>p-value</th>\n",
       "    </tr>\n",
       "  </thead>\n",
       "  <tbody>\n",
       "    <tr>\n",
       "      <th>(intercept)</th>\n",
       "      <td>-11.540478</td>\n",
       "      <td>0.434772</td>\n",
       "      <td>-26.543726</td>\n",
       "      <td>0.00000</td>\n",
       "    </tr>\n",
       "    <tr>\n",
       "      <th>income</th>\n",
       "      <td>0.000021</td>\n",
       "      <td>0.000005</td>\n",
       "      <td>4.174162</td>\n",
       "      <td>0.00003</td>\n",
       "    </tr>\n",
       "    <tr>\n",
       "      <th>balance</th>\n",
       "      <td>0.005647</td>\n",
       "      <td>0.000227</td>\n",
       "      <td>24.835409</td>\n",
       "      <td>0.00000</td>\n",
       "    </tr>\n",
       "  </tbody>\n",
       "</table>\n",
       "</div>"
      ],
      "text/plain": [
       "                  coef        se          z  p-value\n",
       "(intercept) -11.540478  0.434772 -26.543726  0.00000\n",
       "income        0.000021  0.000005   4.174162  0.00003\n",
       "balance       0.005647  0.000227  24.835409  0.00000"
      ]
     },
     "execution_count": 93,
     "metadata": {},
     "output_type": "execute_result"
    }
   ],
   "source": [
    "from scipy.stats import norm, t\n",
    "V = np.diagflat(np.product(logreg.predict_proba(X), axis = 1))\n",
    "X_design = np.hstack([np.ones((len(X), 1)), X])\n",
    "betahat_covmat = np.matrix(np.matmul(np.matmul(X_design.T, V), X_design)).I\n",
    "betahat_se = np.sqrt(betahat_covmat.diagonal())\n",
    "summary = pd.DataFrame({'coef': np.append(logreg.intercept_, logreg.coef_),\n",
    "                        'se': np.asarray(betahat_se)[0]})\n",
    "summary['z'] = summary.coef / summary.se\n",
    "summary['p-value'] = 2 * (1 - norm.cdf(abs(summary.z)))\n",
    "summary.index = np.append('(intercept)', ['income', 'balance'])\n",
    "summary"
   ]
  },
  {
   "cell_type": "code",
   "execution_count": 148,
   "metadata": {
    "ExecuteTime": {
     "end_time": "2019-02-19T04:37:11.992215Z",
     "start_time": "2019-02-19T04:37:09.605990Z"
    }
   },
   "outputs": [],
   "source": [
    "from sklearn.utils import resample\n",
    "coef = []\n",
    "for i in range(100):\n",
    "    df = resample(default)\n",
    "    X = df.loc[:, ['income', 'balance']].values\n",
    "    y = pd.get_dummies(df['default']).iloc[:, 1].values\n",
    "    logreg = LogisticRegression(solver='lbfgs').fit(X, y)\n",
    "    coef.append(np.append(logreg.intercept_, logreg.coef_))"
   ]
  },
  {
   "cell_type": "code",
   "execution_count": 150,
   "metadata": {
    "ExecuteTime": {
     "end_time": "2019-02-19T04:48:25.684166Z",
     "start_time": "2019-02-19T04:48:25.646358Z"
    }
   },
   "outputs": [
    {
     "data": {
      "text/html": [
       "<div>\n",
       "<style scoped>\n",
       "    .dataframe tbody tr th:only-of-type {\n",
       "        vertical-align: middle;\n",
       "    }\n",
       "\n",
       "    .dataframe tbody tr th {\n",
       "        vertical-align: top;\n",
       "    }\n",
       "\n",
       "    .dataframe thead th {\n",
       "        text-align: right;\n",
       "    }\n",
       "</style>\n",
       "<table border=\"1\" class=\"dataframe\">\n",
       "  <thead>\n",
       "    <tr style=\"text-align: right;\">\n",
       "      <th></th>\n",
       "      <th>mean</th>\n",
       "      <th>se</th>\n",
       "    </tr>\n",
       "  </thead>\n",
       "  <tbody>\n",
       "    <tr>\n",
       "      <th>0</th>\n",
       "      <td>-4.292077</td>\n",
       "      <td>5.607222e-02</td>\n",
       "    </tr>\n",
       "    <tr>\n",
       "      <th>1</th>\n",
       "      <td>-0.000072</td>\n",
       "      <td>7.115373e-07</td>\n",
       "    </tr>\n",
       "    <tr>\n",
       "      <th>2</th>\n",
       "      <td>0.002360</td>\n",
       "      <td>2.539542e-05</td>\n",
       "    </tr>\n",
       "  </tbody>\n",
       "</table>\n",
       "</div>"
      ],
      "text/plain": [
       "       mean            se\n",
       "0 -4.292077  5.607222e-02\n",
       "1 -0.000072  7.115373e-07\n",
       "2  0.002360  2.539542e-05"
      ]
     },
     "execution_count": 150,
     "metadata": {},
     "output_type": "execute_result"
    }
   ],
   "source": [
    "import math\n",
    "pd.DataFrame({'mean': pd.DataFrame(coef).apply(np.mean),\n",
    "              'se': pd.DataFrame(coef).apply(np.std) / math.sqrt(default.shape[0])})"
   ]
  },
  {
   "cell_type": "markdown",
   "metadata": {},
   "source": [
    "## Problem 7"
   ]
  },
  {
   "cell_type": "code",
   "execution_count": 151,
   "metadata": {
    "ExecuteTime": {
     "end_time": "2019-02-19T04:49:06.439236Z",
     "start_time": "2019-02-19T04:49:06.409875Z"
    }
   },
   "outputs": [
    {
     "data": {
      "text/html": [
       "<div>\n",
       "<style scoped>\n",
       "    .dataframe tbody tr th:only-of-type {\n",
       "        vertical-align: middle;\n",
       "    }\n",
       "\n",
       "    .dataframe tbody tr th {\n",
       "        vertical-align: top;\n",
       "    }\n",
       "\n",
       "    .dataframe thead th {\n",
       "        text-align: right;\n",
       "    }\n",
       "</style>\n",
       "<table border=\"1\" class=\"dataframe\">\n",
       "  <thead>\n",
       "    <tr style=\"text-align: right;\">\n",
       "      <th></th>\n",
       "      <th>Year</th>\n",
       "      <th>Lag1</th>\n",
       "      <th>Lag2</th>\n",
       "      <th>Lag3</th>\n",
       "      <th>Lag4</th>\n",
       "      <th>Lag5</th>\n",
       "      <th>Volume</th>\n",
       "      <th>Today</th>\n",
       "      <th>Direction</th>\n",
       "    </tr>\n",
       "  </thead>\n",
       "  <tbody>\n",
       "    <tr>\n",
       "      <th>0</th>\n",
       "      <td>1990</td>\n",
       "      <td>0.816</td>\n",
       "      <td>1.572</td>\n",
       "      <td>-3.936</td>\n",
       "      <td>-0.229</td>\n",
       "      <td>-3.484</td>\n",
       "      <td>0.154976</td>\n",
       "      <td>-0.270</td>\n",
       "      <td>Down</td>\n",
       "    </tr>\n",
       "    <tr>\n",
       "      <th>1</th>\n",
       "      <td>1990</td>\n",
       "      <td>-0.270</td>\n",
       "      <td>0.816</td>\n",
       "      <td>1.572</td>\n",
       "      <td>-3.936</td>\n",
       "      <td>-0.229</td>\n",
       "      <td>0.148574</td>\n",
       "      <td>-2.576</td>\n",
       "      <td>Down</td>\n",
       "    </tr>\n",
       "    <tr>\n",
       "      <th>2</th>\n",
       "      <td>1990</td>\n",
       "      <td>-2.576</td>\n",
       "      <td>-0.270</td>\n",
       "      <td>0.816</td>\n",
       "      <td>1.572</td>\n",
       "      <td>-3.936</td>\n",
       "      <td>0.159837</td>\n",
       "      <td>3.514</td>\n",
       "      <td>Up</td>\n",
       "    </tr>\n",
       "    <tr>\n",
       "      <th>3</th>\n",
       "      <td>1990</td>\n",
       "      <td>3.514</td>\n",
       "      <td>-2.576</td>\n",
       "      <td>-0.270</td>\n",
       "      <td>0.816</td>\n",
       "      <td>1.572</td>\n",
       "      <td>0.161630</td>\n",
       "      <td>0.712</td>\n",
       "      <td>Up</td>\n",
       "    </tr>\n",
       "    <tr>\n",
       "      <th>4</th>\n",
       "      <td>1990</td>\n",
       "      <td>0.712</td>\n",
       "      <td>3.514</td>\n",
       "      <td>-2.576</td>\n",
       "      <td>-0.270</td>\n",
       "      <td>0.816</td>\n",
       "      <td>0.153728</td>\n",
       "      <td>1.178</td>\n",
       "      <td>Up</td>\n",
       "    </tr>\n",
       "  </tbody>\n",
       "</table>\n",
       "</div>"
      ],
      "text/plain": [
       "   Year   Lag1   Lag2   Lag3   Lag4   Lag5    Volume  Today Direction\n",
       "0  1990  0.816  1.572 -3.936 -0.229 -3.484  0.154976 -0.270      Down\n",
       "1  1990 -0.270  0.816  1.572 -3.936 -0.229  0.148574 -2.576      Down\n",
       "2  1990 -2.576 -0.270  0.816  1.572 -3.936  0.159837  3.514        Up\n",
       "3  1990  3.514 -2.576 -0.270  0.816  1.572  0.161630  0.712        Up\n",
       "4  1990  0.712  3.514 -2.576 -0.270  0.816  0.153728  1.178        Up"
      ]
     },
     "execution_count": 151,
     "metadata": {},
     "output_type": "execute_result"
    }
   ],
   "source": [
    "weekly = pd.read_csv('Weekly.csv')\n",
    "weekly.head()"
   ]
  },
  {
   "cell_type": "markdown",
   "metadata": {},
   "source": [
    "### 7a-c"
   ]
  },
  {
   "cell_type": "code",
   "execution_count": 160,
   "metadata": {
    "ExecuteTime": {
     "end_time": "2019-02-19T04:53:13.604935Z",
     "start_time": "2019-02-19T04:53:13.590997Z"
    }
   },
   "outputs": [],
   "source": [
    "X = weekly.loc[:, ['Lag1', 'Lag2']].values\n",
    "y = pd.get_dummies(weekly['Direction']).iloc[:, 1].values\n",
    "logreg_all = LogisticRegression(solver='lbfgs').fit(X, y)\n",
    "logreg_m1 = LogisticRegression(solver='lbfgs').fit(X[1:], y[1:])"
   ]
  },
  {
   "cell_type": "code",
   "execution_count": 173,
   "metadata": {
    "ExecuteTime": {
     "end_time": "2019-02-19T04:55:30.697190Z",
     "start_time": "2019-02-19T04:55:30.692681Z"
    }
   },
   "outputs": [
    {
     "name": "stdout",
     "output_type": "stream",
     "text": [
      "Probabilities (down, up): [[0.43 0.57]]\n",
      "y = 0\n"
     ]
    }
   ],
   "source": [
    "print('Probabilities (down, up): {}'.format(logreg_m1.predict_proba([X[0]])))\n",
    "print('y = {}'.format(y[0]))"
   ]
  },
  {
   "cell_type": "markdown",
   "metadata": {},
   "source": [
    "This represents an incorrect prediction of \"up\" when it's actually \"down\" for the first row."
   ]
  },
  {
   "cell_type": "markdown",
   "metadata": {},
   "source": [
    "### 7d-e"
   ]
  },
  {
   "cell_type": "code",
   "execution_count": 194,
   "metadata": {
    "ExecuteTime": {
     "end_time": "2019-02-19T05:09:52.192391Z",
     "start_time": "2019-02-19T05:09:49.980592Z"
    }
   },
   "outputs": [
    {
     "name": "stdout",
     "output_type": "stream",
     "text": [
      "Error: 0.4499540863177227\n"
     ]
    }
   ],
   "source": [
    "preds = []\n",
    "X = weekly.loc[:, ['Lag1', 'Lag2']].values\n",
    "y = pd.get_dummies(weekly['Direction']).iloc[:, 1].values\n",
    "for i in range(len(weekly)):\n",
    "    X_loo = np.delete(X, i, 0)\n",
    "    y_loo = np.delete(y, i, 0)\n",
    "    logreg_loo = LogisticRegression(solver='lbfgs').fit(X_loo, y_loo)\n",
    "    preds.append(logreg_loo.predict([X[i]])[0] == y[i])\n",
    "print('Error: {}'.format(1 - np.mean(preds)))"
   ]
  },
  {
   "cell_type": "markdown",
   "metadata": {},
   "source": [
    "LOOCV does very poorly. Not that dataset-wide logistic regression and testing on training set is any better:"
   ]
  },
  {
   "cell_type": "code",
   "execution_count": 200,
   "metadata": {
    "ExecuteTime": {
     "end_time": "2019-02-19T05:11:57.286214Z",
     "start_time": "2019-02-19T05:11:57.279775Z"
    }
   },
   "outputs": [
    {
     "data": {
      "text/plain": [
       "0.44536271808999084"
      ]
     },
     "execution_count": 200,
     "metadata": {},
     "output_type": "execute_result"
    }
   ],
   "source": [
    "1 - np.mean(logreg_all.predict(X) == y)"
   ]
  },
  {
   "cell_type": "markdown",
   "metadata": {},
   "source": [
    "## Problem 8"
   ]
  },
  {
   "cell_type": "markdown",
   "metadata": {},
   "source": [
    "### 8a"
   ]
  },
  {
   "cell_type": "code",
   "execution_count": 276,
   "metadata": {
    "ExecuteTime": {
     "end_time": "2019-02-19T05:34:07.140644Z",
     "start_time": "2019-02-19T05:34:07.136345Z"
    }
   },
   "outputs": [],
   "source": [
    "X = np.random.normal(size=100).reshape(-1, 1)\n",
    "y = x - 2*X.flatten()**2 + np.random.normal(size=100)"
   ]
  },
  {
   "cell_type": "markdown",
   "metadata": {},
   "source": [
    "### 8b"
   ]
  },
  {
   "cell_type": "code",
   "execution_count": 277,
   "metadata": {
    "ExecuteTime": {
     "end_time": "2019-02-19T05:34:09.495339Z",
     "start_time": "2019-02-19T05:34:09.354219Z"
    }
   },
   "outputs": [
    {
     "data": {
      "image/png": "[encoded data removed]",
      "text/plain": [
       "<Figure size 432x288 with 1 Axes>"
      ]
     },
     "metadata": {},
     "output_type": "display_data"
    }
   ],
   "source": [
    "plt.style.use('seaborn-whitegrid')\n",
    "plt.scatter(X.flatten(), y,  color='black')\n",
    "plt.tight_layout()"
   ]
  },
  {
   "cell_type": "markdown",
   "metadata": {},
   "source": [
    "### 8c"
   ]
  },
  {
   "cell_type": "code",
   "execution_count": 287,
   "metadata": {
    "ExecuteTime": {
     "end_time": "2019-02-19T05:37:59.921001Z",
     "start_time": "2019-02-19T05:37:59.728288Z"
    }
   },
   "outputs": [
    {
     "name": "stdout",
     "output_type": "stream",
     "text": [
      "(i): R2 = -0.03979546602887707\n",
      "(ii): R2 = 0.6204748351962674\n",
      "(iii): R2 = 0.6132102226934383\n",
      "(iv): R2 = 0.6114851743809828\n"
     ]
    }
   ],
   "source": [
    "from sklearn.model_selection import LeaveOneOut\n",
    "\n",
    "def loocv_linreg_err(X_design):\n",
    "    preds = []\n",
    "    for train_index, test_index in LeaveOneOut().split(X_design):\n",
    "        X_train, X_test, y_train, y_test = X_design[train_index], X_design[test_index], y[train_index], y[test_index]\n",
    "        linreg = LinearRegression().fit(X_train, y_train)\n",
    "        preds.append(linreg.predict(X_test)[0])\n",
    "    return 1 - np.sum((y - preds) ** 2) / np.sum((y - np.mean(y)) ** 2)\n",
    "\n",
    "# (i) Y = b0 + b1X + e\n",
    "print('(i): R2 = {}'.format(loocv_linreg_err(X)))\n",
    "\n",
    "# (ii) Y = b0 + b1X + b2X^2 + e\n",
    "X_design = np.append(X, X ** 2, axis = 1)\n",
    "print('(ii): R2 = {}'.format(loocv_linreg_err(X_design)))\n",
    "\n",
    "# (iii) Y = b0 + b1X + b2X^2 + b3X^3 + e\n",
    "X_design = np.append(X_design, X ** 3, axis = 1)\n",
    "print('(iii): R2 = {}'.format(loocv_linreg_err(X_design)))\n",
    "\n",
    "# (iv) Y = b0 + b1X + b2X^2 + b4X^4 + e\n",
    "X_design = np.append(X_design, X ** 4, axis = 1)\n",
    "print('(iv): R2 = {}'.format(loocv_linreg_err(X_design)))"
   ]
  }
 ],
 "metadata": {
  "kernelspec": {
   "display_name": "Python 3",
   "language": "python",
   "name": "python3"
  },
  "language_info": {
   "codemirror_mode": {
    "name": "ipython",
    "version": 3
   },
   "file_extension": ".py",
   "mimetype": "text/x-python",
   "name": "python",
   "nbconvert_exporter": "python",
   "pygments_lexer": "ipython3",
   "version": "3.6.8"
  },
  "toc": {
   "base_numbering": 1,
   "nav_menu": {},
   "number_sections": false,
   "sideBar": true,
   "skip_h1_title": false,
   "title_cell": "Table of Contents",
   "title_sidebar": "Contents",
   "toc_cell": true,
   "toc_position": {},
   "toc_section_display": true,
   "toc_window_display": false
  },
  "varInspector": {
   "cols": {
    "lenName": 16,
    "lenType": 16,
    "lenVar": 40
   },
   "kernels_config": {
    "python": {
     "delete_cmd_postfix": "",
     "delete_cmd_prefix": "del ",
     "library": "var_list.py",
     "varRefreshCmd": "print(var_dic_list())"
    },
    "r": {
     "delete_cmd_postfix": ") ",
     "delete_cmd_prefix": "rm(",
     "library": "var_list.r",
     "varRefreshCmd": "cat(var_dic_list()) "
    }
   },
   "types_to_exclude": [
    "module",
    "function",
    "builtin_function_or_method",
    "instance",
    "_Feature"
   ],
   "window_display": false
  }
 },
 "nbformat": 4,
 "nbformat_minor": 2
}
